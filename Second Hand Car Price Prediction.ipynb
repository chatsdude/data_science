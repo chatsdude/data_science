{
 "cells": [
  {
   "cell_type": "markdown",
   "metadata": {},
   "source": [
    "In this project,we will make predictions about selling price of a used car with the help of dataset obtained from Kaggle.The dataset was scraped from cardekho.com.We will start by loading the dataset."
   ]
  },
  {
   "cell_type": "code",
   "execution_count": 1,
   "metadata": {},
   "outputs": [],
   "source": [
    "import pandas as pd\n",
    "import matplotlib.pyplot as plt\n",
    "import numpy as np"
   ]
  },
  {
   "cell_type": "code",
   "execution_count": 2,
   "metadata": {},
   "outputs": [],
   "source": [
    "df=pd.read_csv('Car Dataset.csv')"
   ]
  },
  {
   "cell_type": "code",
   "execution_count": 3,
   "metadata": {},
   "outputs": [
    {
     "data": {
      "text/plain": [
       "(4340, 8)"
      ]
     },
     "execution_count": 3,
     "metadata": {},
     "output_type": "execute_result"
    }
   ],
   "source": [
    "df.shape"
   ]
  },
  {
   "cell_type": "code",
   "execution_count": 4,
   "metadata": {},
   "outputs": [
    {
     "data": {
      "text/html": [
       "<div>\n",
       "<style scoped>\n",
       "    .dataframe tbody tr th:only-of-type {\n",
       "        vertical-align: middle;\n",
       "    }\n",
       "\n",
       "    .dataframe tbody tr th {\n",
       "        vertical-align: top;\n",
       "    }\n",
       "\n",
       "    .dataframe thead th {\n",
       "        text-align: right;\n",
       "    }\n",
       "</style>\n",
       "<table border=\"1\" class=\"dataframe\">\n",
       "  <thead>\n",
       "    <tr style=\"text-align: right;\">\n",
       "      <th></th>\n",
       "      <th>name</th>\n",
       "      <th>year</th>\n",
       "      <th>selling_price</th>\n",
       "      <th>km_driven</th>\n",
       "      <th>fuel</th>\n",
       "      <th>seller_type</th>\n",
       "      <th>transmission</th>\n",
       "      <th>owner</th>\n",
       "    </tr>\n",
       "  </thead>\n",
       "  <tbody>\n",
       "    <tr>\n",
       "      <th>0</th>\n",
       "      <td>Maruti 800 AC</td>\n",
       "      <td>2007</td>\n",
       "      <td>60000</td>\n",
       "      <td>70000</td>\n",
       "      <td>Petrol</td>\n",
       "      <td>Individual</td>\n",
       "      <td>Manual</td>\n",
       "      <td>First Owner</td>\n",
       "    </tr>\n",
       "    <tr>\n",
       "      <th>1</th>\n",
       "      <td>Maruti Wagon R LXI Minor</td>\n",
       "      <td>2007</td>\n",
       "      <td>135000</td>\n",
       "      <td>50000</td>\n",
       "      <td>Petrol</td>\n",
       "      <td>Individual</td>\n",
       "      <td>Manual</td>\n",
       "      <td>First Owner</td>\n",
       "    </tr>\n",
       "    <tr>\n",
       "      <th>2</th>\n",
       "      <td>Hyundai Verna 1.6 SX</td>\n",
       "      <td>2012</td>\n",
       "      <td>600000</td>\n",
       "      <td>100000</td>\n",
       "      <td>Diesel</td>\n",
       "      <td>Individual</td>\n",
       "      <td>Manual</td>\n",
       "      <td>First Owner</td>\n",
       "    </tr>\n",
       "    <tr>\n",
       "      <th>3</th>\n",
       "      <td>Datsun RediGO T Option</td>\n",
       "      <td>2017</td>\n",
       "      <td>250000</td>\n",
       "      <td>46000</td>\n",
       "      <td>Petrol</td>\n",
       "      <td>Individual</td>\n",
       "      <td>Manual</td>\n",
       "      <td>First Owner</td>\n",
       "    </tr>\n",
       "    <tr>\n",
       "      <th>4</th>\n",
       "      <td>Honda Amaze VX i-DTEC</td>\n",
       "      <td>2014</td>\n",
       "      <td>450000</td>\n",
       "      <td>141000</td>\n",
       "      <td>Diesel</td>\n",
       "      <td>Individual</td>\n",
       "      <td>Manual</td>\n",
       "      <td>Second Owner</td>\n",
       "    </tr>\n",
       "  </tbody>\n",
       "</table>\n",
       "</div>"
      ],
      "text/plain": [
       "                       name  year  selling_price  km_driven    fuel  \\\n",
       "0             Maruti 800 AC  2007          60000      70000  Petrol   \n",
       "1  Maruti Wagon R LXI Minor  2007         135000      50000  Petrol   \n",
       "2      Hyundai Verna 1.6 SX  2012         600000     100000  Diesel   \n",
       "3    Datsun RediGO T Option  2017         250000      46000  Petrol   \n",
       "4     Honda Amaze VX i-DTEC  2014         450000     141000  Diesel   \n",
       "\n",
       "  seller_type transmission         owner  \n",
       "0  Individual       Manual   First Owner  \n",
       "1  Individual       Manual   First Owner  \n",
       "2  Individual       Manual   First Owner  \n",
       "3  Individual       Manual   First Owner  \n",
       "4  Individual       Manual  Second Owner  "
      ]
     },
     "execution_count": 4,
     "metadata": {},
     "output_type": "execute_result"
    }
   ],
   "source": [
    "df.head()"
   ]
  },
  {
   "cell_type": "code",
   "execution_count": 5,
   "metadata": {},
   "outputs": [
    {
     "name": "stdout",
     "output_type": "stream",
     "text": [
      "<class 'pandas.core.frame.DataFrame'>\n",
      "RangeIndex: 4340 entries, 0 to 4339\n",
      "Data columns (total 8 columns):\n",
      " #   Column         Non-Null Count  Dtype \n",
      "---  ------         --------------  ----- \n",
      " 0   name           4340 non-null   object\n",
      " 1   year           4340 non-null   int64 \n",
      " 2   selling_price  4340 non-null   int64 \n",
      " 3   km_driven      4340 non-null   int64 \n",
      " 4   fuel           4340 non-null   object\n",
      " 5   seller_type    4340 non-null   object\n",
      " 6   transmission   4340 non-null   object\n",
      " 7   owner          4340 non-null   object\n",
      "dtypes: int64(3), object(5)\n",
      "memory usage: 271.4+ KB\n"
     ]
    }
   ],
   "source": [
    "df.info()"
   ]
  },
  {
   "cell_type": "markdown",
   "metadata": {},
   "source": [
    "From the info() method we can see the columns of the dataframe and dtype along with non null count.Selling_price is the target column.We can do some feature engineering on rest of the columns."
   ]
  },
  {
   "cell_type": "markdown",
   "metadata": {},
   "source": [
    "# Feature Engineering"
   ]
  },
  {
   "cell_type": "code",
   "execution_count": 6,
   "metadata": {},
   "outputs": [
    {
     "data": {
      "text/plain": [
       "name             0\n",
       "year             0\n",
       "selling_price    0\n",
       "km_driven        0\n",
       "fuel             0\n",
       "seller_type      0\n",
       "transmission     0\n",
       "owner            0\n",
       "dtype: int64"
      ]
     },
     "execution_count": 6,
     "metadata": {},
     "output_type": "execute_result"
    }
   ],
   "source": [
    "df.isnull().sum()"
   ]
  },
  {
   "cell_type": "markdown",
   "metadata": {},
   "source": [
    "While determining the selling price of the car,the age of the model will play an important role.By age I mean how old the car is.So,we can create a derived feature by subtracting the present year(2020) with the year column of the dataset."
   ]
  },
  {
   "cell_type": "code",
   "execution_count": 7,
   "metadata": {},
   "outputs": [
    {
     "data": {
      "text/html": [
       "<div>\n",
       "<style scoped>\n",
       "    .dataframe tbody tr th:only-of-type {\n",
       "        vertical-align: middle;\n",
       "    }\n",
       "\n",
       "    .dataframe tbody tr th {\n",
       "        vertical-align: top;\n",
       "    }\n",
       "\n",
       "    .dataframe thead th {\n",
       "        text-align: right;\n",
       "    }\n",
       "</style>\n",
       "<table border=\"1\" class=\"dataframe\">\n",
       "  <thead>\n",
       "    <tr style=\"text-align: right;\">\n",
       "      <th></th>\n",
       "      <th>name</th>\n",
       "      <th>year</th>\n",
       "      <th>selling_price</th>\n",
       "      <th>km_driven</th>\n",
       "      <th>fuel</th>\n",
       "      <th>seller_type</th>\n",
       "      <th>transmission</th>\n",
       "      <th>owner</th>\n",
       "      <th>Present Year</th>\n",
       "    </tr>\n",
       "  </thead>\n",
       "  <tbody>\n",
       "    <tr>\n",
       "      <th>0</th>\n",
       "      <td>Maruti 800 AC</td>\n",
       "      <td>2007</td>\n",
       "      <td>60000</td>\n",
       "      <td>70000</td>\n",
       "      <td>Petrol</td>\n",
       "      <td>Individual</td>\n",
       "      <td>Manual</td>\n",
       "      <td>First Owner</td>\n",
       "      <td>2020</td>\n",
       "    </tr>\n",
       "    <tr>\n",
       "      <th>1</th>\n",
       "      <td>Maruti Wagon R LXI Minor</td>\n",
       "      <td>2007</td>\n",
       "      <td>135000</td>\n",
       "      <td>50000</td>\n",
       "      <td>Petrol</td>\n",
       "      <td>Individual</td>\n",
       "      <td>Manual</td>\n",
       "      <td>First Owner</td>\n",
       "      <td>2020</td>\n",
       "    </tr>\n",
       "    <tr>\n",
       "      <th>2</th>\n",
       "      <td>Hyundai Verna 1.6 SX</td>\n",
       "      <td>2012</td>\n",
       "      <td>600000</td>\n",
       "      <td>100000</td>\n",
       "      <td>Diesel</td>\n",
       "      <td>Individual</td>\n",
       "      <td>Manual</td>\n",
       "      <td>First Owner</td>\n",
       "      <td>2020</td>\n",
       "    </tr>\n",
       "    <tr>\n",
       "      <th>3</th>\n",
       "      <td>Datsun RediGO T Option</td>\n",
       "      <td>2017</td>\n",
       "      <td>250000</td>\n",
       "      <td>46000</td>\n",
       "      <td>Petrol</td>\n",
       "      <td>Individual</td>\n",
       "      <td>Manual</td>\n",
       "      <td>First Owner</td>\n",
       "      <td>2020</td>\n",
       "    </tr>\n",
       "    <tr>\n",
       "      <th>4</th>\n",
       "      <td>Honda Amaze VX i-DTEC</td>\n",
       "      <td>2014</td>\n",
       "      <td>450000</td>\n",
       "      <td>141000</td>\n",
       "      <td>Diesel</td>\n",
       "      <td>Individual</td>\n",
       "      <td>Manual</td>\n",
       "      <td>Second Owner</td>\n",
       "      <td>2020</td>\n",
       "    </tr>\n",
       "  </tbody>\n",
       "</table>\n",
       "</div>"
      ],
      "text/plain": [
       "                       name  year  selling_price  km_driven    fuel  \\\n",
       "0             Maruti 800 AC  2007          60000      70000  Petrol   \n",
       "1  Maruti Wagon R LXI Minor  2007         135000      50000  Petrol   \n",
       "2      Hyundai Verna 1.6 SX  2012         600000     100000  Diesel   \n",
       "3    Datsun RediGO T Option  2017         250000      46000  Petrol   \n",
       "4     Honda Amaze VX i-DTEC  2014         450000     141000  Diesel   \n",
       "\n",
       "  seller_type transmission         owner  Present Year  \n",
       "0  Individual       Manual   First Owner          2020  \n",
       "1  Individual       Manual   First Owner          2020  \n",
       "2  Individual       Manual   First Owner          2020  \n",
       "3  Individual       Manual   First Owner          2020  \n",
       "4  Individual       Manual  Second Owner          2020  "
      ]
     },
     "execution_count": 7,
     "metadata": {},
     "output_type": "execute_result"
    }
   ],
   "source": [
    "df['Present Year']=2020\n",
    "df.head()"
   ]
  },
  {
   "cell_type": "code",
   "execution_count": 8,
   "metadata": {},
   "outputs": [
    {
     "data": {
      "text/html": [
       "<div>\n",
       "<style scoped>\n",
       "    .dataframe tbody tr th:only-of-type {\n",
       "        vertical-align: middle;\n",
       "    }\n",
       "\n",
       "    .dataframe tbody tr th {\n",
       "        vertical-align: top;\n",
       "    }\n",
       "\n",
       "    .dataframe thead th {\n",
       "        text-align: right;\n",
       "    }\n",
       "</style>\n",
       "<table border=\"1\" class=\"dataframe\">\n",
       "  <thead>\n",
       "    <tr style=\"text-align: right;\">\n",
       "      <th></th>\n",
       "      <th>name</th>\n",
       "      <th>selling_price</th>\n",
       "      <th>km_driven</th>\n",
       "      <th>fuel</th>\n",
       "      <th>seller_type</th>\n",
       "      <th>transmission</th>\n",
       "      <th>owner</th>\n",
       "      <th>years_old</th>\n",
       "    </tr>\n",
       "  </thead>\n",
       "  <tbody>\n",
       "    <tr>\n",
       "      <th>0</th>\n",
       "      <td>Maruti 800 AC</td>\n",
       "      <td>60000</td>\n",
       "      <td>70000</td>\n",
       "      <td>Petrol</td>\n",
       "      <td>Individual</td>\n",
       "      <td>Manual</td>\n",
       "      <td>First Owner</td>\n",
       "      <td>13</td>\n",
       "    </tr>\n",
       "    <tr>\n",
       "      <th>1</th>\n",
       "      <td>Maruti Wagon R LXI Minor</td>\n",
       "      <td>135000</td>\n",
       "      <td>50000</td>\n",
       "      <td>Petrol</td>\n",
       "      <td>Individual</td>\n",
       "      <td>Manual</td>\n",
       "      <td>First Owner</td>\n",
       "      <td>13</td>\n",
       "    </tr>\n",
       "    <tr>\n",
       "      <th>2</th>\n",
       "      <td>Hyundai Verna 1.6 SX</td>\n",
       "      <td>600000</td>\n",
       "      <td>100000</td>\n",
       "      <td>Diesel</td>\n",
       "      <td>Individual</td>\n",
       "      <td>Manual</td>\n",
       "      <td>First Owner</td>\n",
       "      <td>8</td>\n",
       "    </tr>\n",
       "    <tr>\n",
       "      <th>3</th>\n",
       "      <td>Datsun RediGO T Option</td>\n",
       "      <td>250000</td>\n",
       "      <td>46000</td>\n",
       "      <td>Petrol</td>\n",
       "      <td>Individual</td>\n",
       "      <td>Manual</td>\n",
       "      <td>First Owner</td>\n",
       "      <td>3</td>\n",
       "    </tr>\n",
       "    <tr>\n",
       "      <th>4</th>\n",
       "      <td>Honda Amaze VX i-DTEC</td>\n",
       "      <td>450000</td>\n",
       "      <td>141000</td>\n",
       "      <td>Diesel</td>\n",
       "      <td>Individual</td>\n",
       "      <td>Manual</td>\n",
       "      <td>Second Owner</td>\n",
       "      <td>6</td>\n",
       "    </tr>\n",
       "  </tbody>\n",
       "</table>\n",
       "</div>"
      ],
      "text/plain": [
       "                       name  selling_price  km_driven    fuel seller_type  \\\n",
       "0             Maruti 800 AC          60000      70000  Petrol  Individual   \n",
       "1  Maruti Wagon R LXI Minor         135000      50000  Petrol  Individual   \n",
       "2      Hyundai Verna 1.6 SX         600000     100000  Diesel  Individual   \n",
       "3    Datsun RediGO T Option         250000      46000  Petrol  Individual   \n",
       "4     Honda Amaze VX i-DTEC         450000     141000  Diesel  Individual   \n",
       "\n",
       "  transmission         owner  years_old  \n",
       "0       Manual   First Owner         13  \n",
       "1       Manual   First Owner         13  \n",
       "2       Manual   First Owner          8  \n",
       "3       Manual   First Owner          3  \n",
       "4       Manual  Second Owner          6  "
      ]
     },
     "execution_count": 8,
     "metadata": {},
     "output_type": "execute_result"
    }
   ],
   "source": [
    "df['years_old']=df['Present Year'] - df['year']\n",
    "df=df.drop(columns=['year','Present Year'],axis=1)\n",
    "df.head()"
   ]
  },
  {
   "cell_type": "markdown",
   "metadata": {},
   "source": [
    "Now,we can see from the dataset that the columns seeler type,transmission,owner,fuel are categorical features.So,we will convert them into numbers so that the model can make sense of the features."
   ]
  },
  {
   "cell_type": "code",
   "execution_count": 9,
   "metadata": {},
   "outputs": [
    {
     "data": {
      "text/html": [
       "<div>\n",
       "<style scoped>\n",
       "    .dataframe tbody tr th:only-of-type {\n",
       "        vertical-align: middle;\n",
       "    }\n",
       "\n",
       "    .dataframe tbody tr th {\n",
       "        vertical-align: top;\n",
       "    }\n",
       "\n",
       "    .dataframe thead th {\n",
       "        text-align: right;\n",
       "    }\n",
       "</style>\n",
       "<table border=\"1\" class=\"dataframe\">\n",
       "  <thead>\n",
       "    <tr style=\"text-align: right;\">\n",
       "      <th></th>\n",
       "      <th>selling_price</th>\n",
       "      <th>km_driven</th>\n",
       "      <th>fuel</th>\n",
       "      <th>seller_type</th>\n",
       "      <th>transmission</th>\n",
       "      <th>owner</th>\n",
       "      <th>years_old</th>\n",
       "    </tr>\n",
       "  </thead>\n",
       "  <tbody>\n",
       "    <tr>\n",
       "      <th>0</th>\n",
       "      <td>60000</td>\n",
       "      <td>70000</td>\n",
       "      <td>Petrol</td>\n",
       "      <td>Individual</td>\n",
       "      <td>Manual</td>\n",
       "      <td>First Owner</td>\n",
       "      <td>13</td>\n",
       "    </tr>\n",
       "    <tr>\n",
       "      <th>1</th>\n",
       "      <td>135000</td>\n",
       "      <td>50000</td>\n",
       "      <td>Petrol</td>\n",
       "      <td>Individual</td>\n",
       "      <td>Manual</td>\n",
       "      <td>First Owner</td>\n",
       "      <td>13</td>\n",
       "    </tr>\n",
       "    <tr>\n",
       "      <th>2</th>\n",
       "      <td>600000</td>\n",
       "      <td>100000</td>\n",
       "      <td>Diesel</td>\n",
       "      <td>Individual</td>\n",
       "      <td>Manual</td>\n",
       "      <td>First Owner</td>\n",
       "      <td>8</td>\n",
       "    </tr>\n",
       "    <tr>\n",
       "      <th>3</th>\n",
       "      <td>250000</td>\n",
       "      <td>46000</td>\n",
       "      <td>Petrol</td>\n",
       "      <td>Individual</td>\n",
       "      <td>Manual</td>\n",
       "      <td>First Owner</td>\n",
       "      <td>3</td>\n",
       "    </tr>\n",
       "    <tr>\n",
       "      <th>4</th>\n",
       "      <td>450000</td>\n",
       "      <td>141000</td>\n",
       "      <td>Diesel</td>\n",
       "      <td>Individual</td>\n",
       "      <td>Manual</td>\n",
       "      <td>Second Owner</td>\n",
       "      <td>6</td>\n",
       "    </tr>\n",
       "  </tbody>\n",
       "</table>\n",
       "</div>"
      ],
      "text/plain": [
       "   selling_price  km_driven    fuel seller_type transmission         owner  \\\n",
       "0          60000      70000  Petrol  Individual       Manual   First Owner   \n",
       "1         135000      50000  Petrol  Individual       Manual   First Owner   \n",
       "2         600000     100000  Diesel  Individual       Manual   First Owner   \n",
       "3         250000      46000  Petrol  Individual       Manual   First Owner   \n",
       "4         450000     141000  Diesel  Individual       Manual  Second Owner   \n",
       "\n",
       "   years_old  \n",
       "0         13  \n",
       "1         13  \n",
       "2          8  \n",
       "3          3  \n",
       "4          6  "
      ]
     },
     "execution_count": 9,
     "metadata": {},
     "output_type": "execute_result"
    }
   ],
   "source": [
    "df.drop(columns=['name'],inplace=True)\n",
    "df.head()"
   ]
  },
  {
   "cell_type": "code",
   "execution_count": 10,
   "metadata": {},
   "outputs": [
    {
     "data": {
      "text/html": [
       "<div>\n",
       "<style scoped>\n",
       "    .dataframe tbody tr th:only-of-type {\n",
       "        vertical-align: middle;\n",
       "    }\n",
       "\n",
       "    .dataframe tbody tr th {\n",
       "        vertical-align: top;\n",
       "    }\n",
       "\n",
       "    .dataframe thead th {\n",
       "        text-align: right;\n",
       "    }\n",
       "</style>\n",
       "<table border=\"1\" class=\"dataframe\">\n",
       "  <thead>\n",
       "    <tr style=\"text-align: right;\">\n",
       "      <th></th>\n",
       "      <th>selling_price</th>\n",
       "      <th>km_driven</th>\n",
       "      <th>years_old</th>\n",
       "      <th>fuel_Diesel</th>\n",
       "      <th>fuel_Electric</th>\n",
       "      <th>fuel_LPG</th>\n",
       "      <th>fuel_Petrol</th>\n",
       "      <th>seller_type_Individual</th>\n",
       "      <th>seller_type_Trustmark Dealer</th>\n",
       "      <th>transmission_Manual</th>\n",
       "      <th>owner_Fourth &amp; Above Owner</th>\n",
       "      <th>owner_Second Owner</th>\n",
       "      <th>owner_Test Drive Car</th>\n",
       "      <th>owner_Third Owner</th>\n",
       "    </tr>\n",
       "  </thead>\n",
       "  <tbody>\n",
       "    <tr>\n",
       "      <th>0</th>\n",
       "      <td>60000</td>\n",
       "      <td>70000</td>\n",
       "      <td>13</td>\n",
       "      <td>0</td>\n",
       "      <td>0</td>\n",
       "      <td>0</td>\n",
       "      <td>1</td>\n",
       "      <td>1</td>\n",
       "      <td>0</td>\n",
       "      <td>1</td>\n",
       "      <td>0</td>\n",
       "      <td>0</td>\n",
       "      <td>0</td>\n",
       "      <td>0</td>\n",
       "    </tr>\n",
       "    <tr>\n",
       "      <th>1</th>\n",
       "      <td>135000</td>\n",
       "      <td>50000</td>\n",
       "      <td>13</td>\n",
       "      <td>0</td>\n",
       "      <td>0</td>\n",
       "      <td>0</td>\n",
       "      <td>1</td>\n",
       "      <td>1</td>\n",
       "      <td>0</td>\n",
       "      <td>1</td>\n",
       "      <td>0</td>\n",
       "      <td>0</td>\n",
       "      <td>0</td>\n",
       "      <td>0</td>\n",
       "    </tr>\n",
       "    <tr>\n",
       "      <th>2</th>\n",
       "      <td>600000</td>\n",
       "      <td>100000</td>\n",
       "      <td>8</td>\n",
       "      <td>1</td>\n",
       "      <td>0</td>\n",
       "      <td>0</td>\n",
       "      <td>0</td>\n",
       "      <td>1</td>\n",
       "      <td>0</td>\n",
       "      <td>1</td>\n",
       "      <td>0</td>\n",
       "      <td>0</td>\n",
       "      <td>0</td>\n",
       "      <td>0</td>\n",
       "    </tr>\n",
       "    <tr>\n",
       "      <th>3</th>\n",
       "      <td>250000</td>\n",
       "      <td>46000</td>\n",
       "      <td>3</td>\n",
       "      <td>0</td>\n",
       "      <td>0</td>\n",
       "      <td>0</td>\n",
       "      <td>1</td>\n",
       "      <td>1</td>\n",
       "      <td>0</td>\n",
       "      <td>1</td>\n",
       "      <td>0</td>\n",
       "      <td>0</td>\n",
       "      <td>0</td>\n",
       "      <td>0</td>\n",
       "    </tr>\n",
       "    <tr>\n",
       "      <th>4</th>\n",
       "      <td>450000</td>\n",
       "      <td>141000</td>\n",
       "      <td>6</td>\n",
       "      <td>1</td>\n",
       "      <td>0</td>\n",
       "      <td>0</td>\n",
       "      <td>0</td>\n",
       "      <td>1</td>\n",
       "      <td>0</td>\n",
       "      <td>1</td>\n",
       "      <td>0</td>\n",
       "      <td>1</td>\n",
       "      <td>0</td>\n",
       "      <td>0</td>\n",
       "    </tr>\n",
       "  </tbody>\n",
       "</table>\n",
       "</div>"
      ],
      "text/plain": [
       "   selling_price  km_driven  years_old  fuel_Diesel  fuel_Electric  fuel_LPG  \\\n",
       "0          60000      70000         13            0              0         0   \n",
       "1         135000      50000         13            0              0         0   \n",
       "2         600000     100000          8            1              0         0   \n",
       "3         250000      46000          3            0              0         0   \n",
       "4         450000     141000          6            1              0         0   \n",
       "\n",
       "   fuel_Petrol  seller_type_Individual  seller_type_Trustmark Dealer  \\\n",
       "0            1                       1                             0   \n",
       "1            1                       1                             0   \n",
       "2            0                       1                             0   \n",
       "3            1                       1                             0   \n",
       "4            0                       1                             0   \n",
       "\n",
       "   transmission_Manual  owner_Fourth & Above Owner  owner_Second Owner  \\\n",
       "0                    1                           0                   0   \n",
       "1                    1                           0                   0   \n",
       "2                    1                           0                   0   \n",
       "3                    1                           0                   0   \n",
       "4                    1                           0                   1   \n",
       "\n",
       "   owner_Test Drive Car  owner_Third Owner  \n",
       "0                     0                  0  \n",
       "1                     0                  0  \n",
       "2                     0                  0  \n",
       "3                     0                  0  \n",
       "4                     0                  0  "
      ]
     },
     "execution_count": 10,
     "metadata": {},
     "output_type": "execute_result"
    }
   ],
   "source": [
    "df=pd.get_dummies(df,drop_first=True)\n",
    "df.head()"
   ]
  },
  {
   "cell_type": "code",
   "execution_count": 11,
   "metadata": {},
   "outputs": [
    {
     "data": {
      "text/plain": [
       "(4340, 14)"
      ]
     },
     "execution_count": 11,
     "metadata": {},
     "output_type": "execute_result"
    }
   ],
   "source": [
    "df.shape"
   ]
  },
  {
   "cell_type": "markdown",
   "metadata": {},
   "source": [
    "Now,lets check correlations between different columns and our target column.Correlations between variables are important for any type of prediction model."
   ]
  },
  {
   "cell_type": "code",
   "execution_count": 12,
   "metadata": {},
   "outputs": [],
   "source": [
    "import seaborn as sns"
   ]
  },
  {
   "cell_type": "code",
   "execution_count": 13,
   "metadata": {},
   "outputs": [
    {
     "data": {
      "text/plain": [
       "<matplotlib.axes._subplots.AxesSubplot at 0x14a8f9545c8>"
      ]
     },
     "execution_count": 13,
     "metadata": {},
     "output_type": "execute_result"
    },
    {
     "data": {
      "image/png": "[encoded data removed]",
      "text/plain": [
       "<Figure size 1440x1440 with 2 Axes>"
      ]
     },
     "metadata": {
      "needs_background": "light"
     },
     "output_type": "display_data"
    }
   ],
   "source": [
    "%matplotlib inline\n",
    "cormat=df.corr()\n",
    "top_cor=cormat.index\n",
    "plt.figure(figsize=(20,20))\n",
    "heat=sns.heatmap(df[top_cor].corr(),annot=True,cmap=\"RdYlGn\")\n",
    "heat"
   ]
  },
  {
   "cell_type": "code",
   "execution_count": 14,
   "metadata": {},
   "outputs": [],
   "source": [
    "X=df.iloc[:,1:]\n",
    "y=df.iloc[:,0]"
   ]
  },
  {
   "cell_type": "code",
   "execution_count": 15,
   "metadata": {},
   "outputs": [
    {
     "data": {
      "text/html": [
       "<div>\n",
       "<style scoped>\n",
       "    .dataframe tbody tr th:only-of-type {\n",
       "        vertical-align: middle;\n",
       "    }\n",
       "\n",
       "    .dataframe tbody tr th {\n",
       "        vertical-align: top;\n",
       "    }\n",
       "\n",
       "    .dataframe thead th {\n",
       "        text-align: right;\n",
       "    }\n",
       "</style>\n",
       "<table border=\"1\" class=\"dataframe\">\n",
       "  <thead>\n",
       "    <tr style=\"text-align: right;\">\n",
       "      <th></th>\n",
       "      <th>km_driven</th>\n",
       "      <th>years_old</th>\n",
       "      <th>fuel_Diesel</th>\n",
       "      <th>fuel_Electric</th>\n",
       "      <th>fuel_LPG</th>\n",
       "      <th>fuel_Petrol</th>\n",
       "      <th>seller_type_Individual</th>\n",
       "      <th>seller_type_Trustmark Dealer</th>\n",
       "      <th>transmission_Manual</th>\n",
       "      <th>owner_Fourth &amp; Above Owner</th>\n",
       "      <th>owner_Second Owner</th>\n",
       "      <th>owner_Test Drive Car</th>\n",
       "      <th>owner_Third Owner</th>\n",
       "    </tr>\n",
       "  </thead>\n",
       "  <tbody>\n",
       "    <tr>\n",
       "      <th>0</th>\n",
       "      <td>70000</td>\n",
       "      <td>13</td>\n",
       "      <td>0</td>\n",
       "      <td>0</td>\n",
       "      <td>0</td>\n",
       "      <td>1</td>\n",
       "      <td>1</td>\n",
       "      <td>0</td>\n",
       "      <td>1</td>\n",
       "      <td>0</td>\n",
       "      <td>0</td>\n",
       "      <td>0</td>\n",
       "      <td>0</td>\n",
       "    </tr>\n",
       "    <tr>\n",
       "      <th>1</th>\n",
       "      <td>50000</td>\n",
       "      <td>13</td>\n",
       "      <td>0</td>\n",
       "      <td>0</td>\n",
       "      <td>0</td>\n",
       "      <td>1</td>\n",
       "      <td>1</td>\n",
       "      <td>0</td>\n",
       "      <td>1</td>\n",
       "      <td>0</td>\n",
       "      <td>0</td>\n",
       "      <td>0</td>\n",
       "      <td>0</td>\n",
       "    </tr>\n",
       "    <tr>\n",
       "      <th>2</th>\n",
       "      <td>100000</td>\n",
       "      <td>8</td>\n",
       "      <td>1</td>\n",
       "      <td>0</td>\n",
       "      <td>0</td>\n",
       "      <td>0</td>\n",
       "      <td>1</td>\n",
       "      <td>0</td>\n",
       "      <td>1</td>\n",
       "      <td>0</td>\n",
       "      <td>0</td>\n",
       "      <td>0</td>\n",
       "      <td>0</td>\n",
       "    </tr>\n",
       "    <tr>\n",
       "      <th>3</th>\n",
       "      <td>46000</td>\n",
       "      <td>3</td>\n",
       "      <td>0</td>\n",
       "      <td>0</td>\n",
       "      <td>0</td>\n",
       "      <td>1</td>\n",
       "      <td>1</td>\n",
       "      <td>0</td>\n",
       "      <td>1</td>\n",
       "      <td>0</td>\n",
       "      <td>0</td>\n",
       "      <td>0</td>\n",
       "      <td>0</td>\n",
       "    </tr>\n",
       "    <tr>\n",
       "      <th>4</th>\n",
       "      <td>141000</td>\n",
       "      <td>6</td>\n",
       "      <td>1</td>\n",
       "      <td>0</td>\n",
       "      <td>0</td>\n",
       "      <td>0</td>\n",
       "      <td>1</td>\n",
       "      <td>0</td>\n",
       "      <td>1</td>\n",
       "      <td>0</td>\n",
       "      <td>1</td>\n",
       "      <td>0</td>\n",
       "      <td>0</td>\n",
       "    </tr>\n",
       "  </tbody>\n",
       "</table>\n",
       "</div>"
      ],
      "text/plain": [
       "   km_driven  years_old  fuel_Diesel  fuel_Electric  fuel_LPG  fuel_Petrol  \\\n",
       "0      70000         13            0              0         0            1   \n",
       "1      50000         13            0              0         0            1   \n",
       "2     100000          8            1              0         0            0   \n",
       "3      46000          3            0              0         0            1   \n",
       "4     141000          6            1              0         0            0   \n",
       "\n",
       "   seller_type_Individual  seller_type_Trustmark Dealer  transmission_Manual  \\\n",
       "0                       1                             0                    1   \n",
       "1                       1                             0                    1   \n",
       "2                       1                             0                    1   \n",
       "3                       1                             0                    1   \n",
       "4                       1                             0                    1   \n",
       "\n",
       "   owner_Fourth & Above Owner  owner_Second Owner  owner_Test Drive Car  \\\n",
       "0                           0                   0                     0   \n",
       "1                           0                   0                     0   \n",
       "2                           0                   0                     0   \n",
       "3                           0                   0                     0   \n",
       "4                           0                   1                     0   \n",
       "\n",
       "   owner_Third Owner  \n",
       "0                  0  \n",
       "1                  0  \n",
       "2                  0  \n",
       "3                  0  \n",
       "4                  0  "
      ]
     },
     "execution_count": 15,
     "metadata": {},
     "output_type": "execute_result"
    }
   ],
   "source": [
    "X.head()"
   ]
  },
  {
   "cell_type": "code",
   "execution_count": 16,
   "metadata": {},
   "outputs": [
    {
     "data": {
      "text/plain": [
       "0     60000\n",
       "1    135000\n",
       "2    600000\n",
       "3    250000\n",
       "4    450000\n",
       "Name: selling_price, dtype: int64"
      ]
     },
     "execution_count": 16,
     "metadata": {},
     "output_type": "execute_result"
    }
   ],
   "source": [
    "y.head()"
   ]
  },
  {
   "cell_type": "code",
   "execution_count": 17,
   "metadata": {},
   "outputs": [
    {
     "data": {
      "text/plain": [
       "ExtraTreesRegressor(bootstrap=False, ccp_alpha=0.0, criterion='mse',\n",
       "                    max_depth=None, max_features='auto', max_leaf_nodes=None,\n",
       "                    max_samples=None, min_impurity_decrease=0.0,\n",
       "                    min_impurity_split=None, min_samples_leaf=1,\n",
       "                    min_samples_split=2, min_weight_fraction_leaf=0.0,\n",
       "                    n_estimators=100, n_jobs=None, oob_score=False,\n",
       "                    random_state=None, verbose=0, warm_start=False)"
      ]
     },
     "execution_count": 17,
     "metadata": {},
     "output_type": "execute_result"
    }
   ],
   "source": [
    "#Feature importance\n",
    "from sklearn.ensemble import ExtraTreesRegressor\n",
    "model=ExtraTreesRegressor()\n",
    "model.fit(X,y)"
   ]
  },
  {
   "cell_type": "code",
   "execution_count": 18,
   "metadata": {},
   "outputs": [
    {
     "name": "stdout",
     "output_type": "stream",
     "text": [
      "[2.43577600e-01 2.49280473e-01 1.30314513e-01 4.89011734e-05\n",
      " 2.43592486e-05 1.88931713e-04 4.65600829e-02 8.63619600e-03\n",
      " 2.92827994e-01 7.85771252e-04 2.22017897e-02 1.35062684e-03\n",
      " 4.20276118e-03]\n"
     ]
    }
   ],
   "source": [
    "print(model.feature_importances_)"
   ]
  },
  {
   "cell_type": "code",
   "execution_count": 19,
   "metadata": {},
   "outputs": [
    {
     "data": {
      "image/png": "[encoded data removed]",
      "text/plain": [
       "<Figure size 432x288 with 1 Axes>"
      ]
     },
     "metadata": {
      "needs_background": "light"
     },
     "output_type": "display_data"
    }
   ],
   "source": [
    "feat_importances=pd.Series(model.feature_importances_,index=X.columns)\n",
    "feat_importances.nlargest(5).plot(kind='barh')\n",
    "plt.show()"
   ]
  },
  {
   "cell_type": "markdown",
   "metadata": {},
   "source": [
    "As we can see from the feature importance graph,transmission of the type manual seems to be highly correlated with the selling price.Then we have km_driven and years_old(as we saw earlier that years_old was going to play an important role in prediction!).Lets get into building our model with first splitting the data into train and test."
   ]
  },
  {
   "cell_type": "code",
   "execution_count": 20,
   "metadata": {},
   "outputs": [],
   "source": [
    "from sklearn.model_selection import train_test_split\n",
    "X_train,X_test,y_train,y_test=train_test_split(X,y,test_size=0.2)"
   ]
  },
  {
   "cell_type": "markdown",
   "metadata": {},
   "source": [
    "# Random Forest Model"
   ]
  },
  {
   "cell_type": "code",
   "execution_count": 21,
   "metadata": {},
   "outputs": [],
   "source": [
    "#Lets first try using a Random Forest Model for predictions\n",
    "from sklearn.ensemble import RandomForestRegressor\n",
    "rf=RandomForestRegressor()"
   ]
  },
  {
   "cell_type": "code",
   "execution_count": 22,
   "metadata": {},
   "outputs": [],
   "source": [
    "#playing with the hyperparameters\n",
    "n_estimators=[int(x) for x in np.linspace(start=100,stop=1200,num=12)]\n",
    "max_features=['auto','sqrt']\n",
    "max_depth=[int(x) for x in np.linspace(5,30,num=6)]\n",
    "min_samples_split=[2,5,10,15,100]\n",
    "min_smaples_leaf=[1,2,5,10]"
   ]
  },
  {
   "cell_type": "code",
   "execution_count": 23,
   "metadata": {},
   "outputs": [],
   "source": [
    "#Lets try to find the best model by running our model with all the different parameters and then selecting the best one.\n",
    "from sklearn.model_selection import RandomizedSearchCV"
   ]
  },
  {
   "cell_type": "code",
   "execution_count": 24,
   "metadata": {},
   "outputs": [],
   "source": [
    "grid={'n_estimators':n_estimators,\n",
    "'max_features':max_features,\n",
    "'max_depth':max_depth,\n",
    "'min_samples_split':min_samples_split,\n",
    "'min_samples_leaf':min_smaples_leaf}\n"
   ]
  },
  {
   "cell_type": "code",
   "execution_count": 25,
   "metadata": {},
   "outputs": [
    {
     "name": "stdout",
     "output_type": "stream",
     "text": [
      "{'n_estimators': [100, 200, 300, 400, 500, 600, 700, 800, 900, 1000, 1100, 1200], 'max_features': ['auto', 'sqrt'], 'max_depth': [5, 10, 15, 20, 25, 30], 'min_samples_split': [2, 5, 10, 15, 100], 'min_samples_leaf': [1, 2, 5, 10]}\n"
     ]
    }
   ],
   "source": [
    "print(grid)"
   ]
  },
  {
   "cell_type": "code",
   "execution_count": 36,
   "metadata": {},
   "outputs": [],
   "source": [
    "rf_rand=RandomizedSearchCV(estimator=rf,param_distributions=grid,scoring='neg_mean_squared_error',n_iter=10,cv=5,random_state=42)"
   ]
  },
  {
   "cell_type": "code",
   "execution_count": 37,
   "metadata": {},
   "outputs": [
    {
     "data": {
      "text/plain": [
       "RandomizedSearchCV(cv=5, error_score=nan,\n",
       "                   estimator=RandomForestRegressor(bootstrap=True,\n",
       "                                                   ccp_alpha=0.0,\n",
       "                                                   criterion='mse',\n",
       "                                                   max_depth=None,\n",
       "                                                   max_features='auto',\n",
       "                                                   max_leaf_nodes=None,\n",
       "                                                   max_samples=None,\n",
       "                                                   min_impurity_decrease=0.0,\n",
       "                                                   min_impurity_split=None,\n",
       "                                                   min_samples_leaf=1,\n",
       "                                                   min_samples_split=2,\n",
       "                                                   min_weight_fraction_leaf=0.0,\n",
       "                                                   n_estimators=100,\n",
       "                                                   n_jobs=None, oob_score=Fals...\n",
       "                   iid='deprecated', n_iter=10, n_jobs=None,\n",
       "                   param_distributions={'max_depth': [5, 10, 15, 20, 25, 30],\n",
       "                                        'max_features': ['auto', 'sqrt'],\n",
       "                                        'min_samples_leaf': [1, 2, 5, 10],\n",
       "                                        'min_samples_split': [2, 5, 10, 15,\n",
       "                                                              100],\n",
       "                                        'n_estimators': [100, 200, 300, 400,\n",
       "                                                         500, 600, 700, 800,\n",
       "                                                         900, 1000, 1100,\n",
       "                                                         1200]},\n",
       "                   pre_dispatch='2*n_jobs', random_state=42, refit=True,\n",
       "                   return_train_score=False, scoring='neg_mean_squared_error',\n",
       "                   verbose=0)"
      ]
     },
     "execution_count": 37,
     "metadata": {},
     "output_type": "execute_result"
    }
   ],
   "source": [
    "rf_rand.fit(X_train,y_train)"
   ]
  },
  {
   "cell_type": "code",
   "execution_count": 38,
   "metadata": {},
   "outputs": [],
   "source": [
    "predictions=rf_rand.predict(X_test)"
   ]
  },
  {
   "cell_type": "code",
   "execution_count": 39,
   "metadata": {},
   "outputs": [
    {
     "data": {
      "text/plain": [
       "array([ 136541.88612789,  400030.38785592,  706227.74823401,\n",
       "        385370.87401621,  653970.54524868,  639684.67290151,\n",
       "        303768.0226906 ,  474109.80941644,  870855.20431071,\n",
       "        181877.95779914,  103912.09754266,  446679.66451677,\n",
       "       1164293.8606284 ,  249054.84036761,  327463.8751784 ,\n",
       "        381818.60757652,  347235.91350384,  381501.48896014,\n",
       "        262143.47725992,  283572.20051136,  167369.08540695,\n",
       "        291001.72867841,  290607.4360896 ,  157192.39584585,\n",
       "       1687965.0578545 ,  268441.21661567,  491473.76876686,\n",
       "        294061.42695951,  743856.17244347,  151316.14151708,\n",
       "        157199.65772717,  446679.66451677,  612677.547957  ,\n",
       "        887415.53153718, 1657977.22127883,  473260.99039371,\n",
       "        126281.93274908,  191539.74469922,  360179.65605385,\n",
       "        968838.39718664,  970365.66327463,  641049.7094829 ,\n",
       "        294894.8438621 ,   83635.59605717,  427171.23866964,\n",
       "        312574.43680507,  888567.44655561,  513044.24537024,\n",
       "        562333.06576608,  732640.05455195,  670187.72471098,\n",
       "        902853.8025563 ,  290838.32420681, 2206849.11467923,\n",
       "        679907.0101251 ,  140591.27528039,  936193.69810849,\n",
       "        155088.77273195,  298542.24141301,  345893.06741365,\n",
       "        182876.68784239,  424226.53308192,  401417.63580728,\n",
       "        990378.93055664,  917304.26684256,  928709.55427576,\n",
       "       1519458.39729709, 1643689.60201849,  706914.0747533 ,\n",
       "        916511.11651433,  229419.37709096,  582559.94108285,\n",
       "        433110.9269939 ,  276950.11107185,  694622.05565171,\n",
       "        902853.8025563 ,  520963.84343571,  646434.56766588,\n",
       "        342466.1485853 ,  731336.74194995,  350458.21274155,\n",
       "        207697.73871951,  751310.86069061,  439078.35389356,\n",
       "        496173.27821357,  104259.75110745,  283572.20051136,\n",
       "        234662.91060282,   81062.38994815,  641881.88062706,\n",
       "       2623783.09369405, 1027998.04232845,  638489.7674724 ,\n",
       "       1790113.24910199,  366303.7461681 ,  166983.03850743,\n",
       "        323031.68712364,  687679.47429578,  462608.13703141,\n",
       "        444109.1227954 ,  111927.98393161,  201780.59175669,\n",
       "       2206849.11467923,  350303.52425391,  403699.86137479,\n",
       "        378007.48555552,  460386.71976682,  556227.39691203,\n",
       "        308183.14515862,  334866.7702452 ,  229967.2248471 ,\n",
       "       1454283.61660702,  575634.55229984,  272665.92562261,\n",
       "        174700.61909403,  264724.99562616,  686592.53014644,\n",
       "        272486.69612761, 2056509.16942844,  673522.62815404,\n",
       "        521689.55842693,  395117.06243693,  307888.64251392,\n",
       "        293132.63886876,  342466.1485853 ,  207514.07197344,\n",
       "        300984.50582542,  240026.49867693, 1075704.00821789,\n",
       "        212198.89583913,  360538.89615465,  415205.61662077,\n",
       "        586359.72317628,  392269.50495928,  703883.88554223,\n",
       "        384964.05649925,  751310.86069061,  425519.76048775,\n",
       "        335705.28124781, 3731677.95558662,  403699.86137479,\n",
       "        604495.14910762,  613217.23945075,  522801.95547126,\n",
       "        649514.17146318,  613217.23945075,  505082.94077129,\n",
       "        331206.86205761,  939157.12311525,  380760.74351235,\n",
       "        239897.30566279,  222393.96903436,  592522.91581848,\n",
       "        871911.26219433,  167348.63838876,  483173.81296909,\n",
       "       1456896.71490867,  253496.68900434,  601859.10541309,\n",
       "        538210.77468707,  451888.51485683,  389318.42774571,\n",
       "        231931.74925342,  963918.33005853,  932883.67124026,\n",
       "        637804.70478085,   66392.21026766,  215764.67979981,\n",
       "        601859.10541309,  670305.55455176,  229967.2248471 ,\n",
       "        319226.78023793,  796836.91260917,  105783.08109716,\n",
       "        204241.50352643,  557105.97433209,  571284.62397053,\n",
       "        284403.05795635,  223045.39601325,  410706.49715259,\n",
       "        350853.27323797,  522584.92941079,  536588.49416131,\n",
       "        194402.23972663,  844815.75833312,  628462.4700163 ,\n",
       "        717560.14909712,  525981.20765337,  240117.29597475,\n",
       "        244570.29658623,  436727.13658195,  641423.48331045,\n",
       "        656998.76311641,  214453.50241411,  376834.42378707,\n",
       "        777361.13809029,  154147.16571328,  167633.16261328,\n",
       "        399829.73998055,  328744.65638713, 2233685.69203063,\n",
       "       3731677.95558662, 2535778.5008614 ,  154444.9344447 ,\n",
       "        234310.43324214, 3731677.95558662,  168560.34099944,\n",
       "        695762.42548601,  140591.27528039,  425065.45145566,\n",
       "        868442.15716256,  560107.23263881,  464811.92941705,\n",
       "        111688.27701124, 3731677.95558662,  384480.36213425,\n",
       "        229967.2248471 ,  437152.32911001,  913517.02078686,\n",
       "        339520.49715168,  193223.45727048,  200232.08833779,\n",
       "        260900.66108247,  157543.12336501,  181818.19174883,\n",
       "        101074.16424411,  515453.0812146 ,  423139.7520888 ,\n",
       "       1360651.59271414,  457612.15410546,  639684.67290151,\n",
       "        330845.12643071,  583841.78577485,   95210.89098565,\n",
       "        334916.14379995,  152717.95549065,  381196.96875512,\n",
       "       1327805.14110224,  223114.23716662,  283450.52832882,\n",
       "         81529.33709563,  498020.39049349,  548340.69029137,\n",
       "        183451.88729485,  601859.10541309,  544705.73039066,\n",
       "        118945.3279583 ,  141745.86871562,  787685.24390381,\n",
       "        205645.28831538,  141994.66601939,  704331.8713145 ,\n",
       "        643422.61381462,  293911.1954726 ,  188732.88856771,\n",
       "        392303.58339881,  690225.09907727,  332816.60881392,\n",
       "        444109.1227954 ,  313701.0097003 ,  122255.57072674,\n",
       "        970365.66327463,  510331.6803124 ,  522225.83474397,\n",
       "        853442.919815  ,  403828.40141767, 1039299.41158944,\n",
       "        173622.84298199,  317692.45898932,  253355.66827014,\n",
       "        195643.69691516,  101669.22705653,  460196.60554368,\n",
       "        395117.06243693,  621241.44466424, 1049053.28893767,\n",
       "        217376.32556766, 1545431.28706439,  373260.73045582,\n",
       "        181852.62394639,  414549.74538254,  112375.39747955,\n",
       "       2280707.44869863,  336241.29763074,  666245.67942225,\n",
       "        217195.40837519,  558278.14543552,  641905.61030473,\n",
       "       1496842.20923567,  309194.21353662,  985069.13862495,\n",
       "        580227.23552881,  466103.90483143,  378895.617932  ,\n",
       "        988204.89252266,  591091.90588165,  425004.95966099,\n",
       "        547288.80418432,  250676.75958451,  599147.97893878,\n",
       "        283636.88089507,  169024.41897828,  403699.86137479,\n",
       "        519356.96117986,  527788.43913768, 1938236.19509264,\n",
       "        454065.35606418,  705917.86732405,  256905.71628331,\n",
       "        698775.87713798,  188412.5745594 ,  115182.18374774,\n",
       "        116537.2003184 ,  771372.83420268,  299531.32730822,\n",
       "        605635.13357201,  437152.72266922,  551402.45994271,\n",
       "        414815.31717378,  502830.11461022,  440605.27488538,\n",
       "        206318.20935231,   84376.06022941,  486123.11014802,\n",
       "        514730.21082934,  166983.03850743,  552376.06324401,\n",
       "        347172.68216971,  532231.98452216, 1145627.76466359,\n",
       "        232641.68953904,  445184.31628013,  259560.29636596,\n",
       "        158386.89069474,  766162.27949073,  511142.40481603,\n",
       "        720838.64799913,  783849.32886256,  520963.84343571,\n",
       "        272525.3304178 ,  307816.79794702,  167343.12455143,\n",
       "        244274.3798071 ,  264305.55523908,  612936.25303326,\n",
       "        522801.95547126,  339019.81899645,  338593.39033072,\n",
       "        172206.92026938,  414935.99396416,  259560.29636596,\n",
       "        603822.4892305 ,  228256.90258209,  115189.31350614,\n",
       "       1792442.47252299,  255575.68729431,  552376.06324401,\n",
       "        200826.25225982,  488491.37742297,  909319.25966414,\n",
       "        745625.40748049, 1737146.3285255 ,   65905.59390113,\n",
       "        158394.9640487 ,  490920.16900263,  354352.83852427,\n",
       "         84376.06022941,  250367.09601096,  287200.55788511,\n",
       "        164247.78014452,  178844.945864  ,  425049.07975689,\n",
       "        263058.60562058,  110521.53810668,  548762.68435275,\n",
       "        787685.24390381,  328414.1151498 ,  320781.50025328,\n",
       "        407843.58333437, 2599859.01411315,  562277.05022822,\n",
       "       1769217.84398966,  308194.8448312 ,  991451.76755138,\n",
       "        712288.36610663,  390074.7266198 ,  411088.95067556,\n",
       "        354347.97911941,  346437.76715201,  316976.70951968,\n",
       "        201937.8176938 ,   78735.86359953,  459656.44799508,\n",
       "        100447.93545593, 2206999.36193107,  535436.39291862,\n",
       "        118359.58417218,  125545.45916934,  239590.66805223,\n",
       "        747302.1247791 ,  755285.8100646 ,  474824.15356714,\n",
       "       2491033.61037508,  330845.12643071,  277310.69797439,\n",
       "        286806.36434761,  242868.57329895,  198610.31053553,\n",
       "        283636.88089507,  164929.18639452,  434259.99424808,\n",
       "        323129.8764004 ,  180570.76852735,  709989.85765406,\n",
       "        570876.74193054,  287200.55788511, 1252422.17990602,\n",
       "        411240.60660162,  828798.09604671,  848814.13069059,\n",
       "        160952.00548673,  159045.71372257,  687679.47429578,\n",
       "        297829.0816555 ,  294061.42695951,  751310.86069061,\n",
       "         74432.48452326,  451888.51485683,  118197.79609973,\n",
       "        272525.3304178 ,  320781.50025328,  523208.17513532,\n",
       "        304631.48017924,  593991.24841596,  361780.2693978 ,\n",
       "        289267.26356512,  101905.38239587,  184566.15754713,\n",
       "        423139.7520888 ,  284438.73880105,  169921.0307873 ,\n",
       "        603573.70403017,  126018.39109295,  265215.3363255 ,\n",
       "        444177.89856562,  337253.92082277,  260576.85343992,\n",
       "        183451.88729485,  474548.7213527 , 3731677.95558662,\n",
       "        594533.43896884,  183451.88729485,  334916.14379995,\n",
       "        669274.77638251,  486900.87743939,  165682.80399241,\n",
       "        162287.43299968,  283572.20051136,  108327.24874427,\n",
       "        612475.58997325,  990378.93055664,  436727.13658195,\n",
       "        118197.79609973,  560658.95174034,  283572.20051136,\n",
       "        884864.32461588,  843276.78716728,  445184.31628013,\n",
       "        403699.86137479,  705735.91584491,  810754.85977341,\n",
       "        351734.08644003,  711775.00455374,  431028.2281337 ,\n",
       "        109757.27773822,  283572.20051136,  657544.88637951,\n",
       "        327490.79389354,  109800.25549294,  399829.73998055,\n",
       "        353631.78651067,  333989.04113026,  546979.81197048,\n",
       "        273279.39510311,  157864.94013772,  237428.15877088,\n",
       "        821521.50969173,  485619.44944229,  228936.84621329,\n",
       "        253496.68900434,  510452.31460892,  294063.36725017,\n",
       "        454542.65505802,  487200.44476294,  171366.21527363,\n",
       "        229419.37709096,  622271.90588875,  399829.73998055,\n",
       "        510554.2365693 ,  220543.73642242,  482953.64364789,\n",
       "        167642.71612616,  742126.16425447,  407843.58333437,\n",
       "        450464.58664409, 2147900.36503017,  312051.34033335,\n",
       "        236853.15810873,  182162.98157965,  583841.78577485,\n",
       "        649555.19028859,  710506.57313932,  236399.8126349 ,\n",
       "        392583.40164609,  584419.14273327,  236288.44590272,\n",
       "       1628643.95021633,  818580.64829224,  657544.88637951,\n",
       "        357664.98317732,  485306.59347971,  127393.92262629,\n",
       "        398507.15151926,  508595.63092182,  416532.1074688 ,\n",
       "        206318.20935231,  643422.61381462,  401043.67941725,\n",
       "        240445.992239  ,  509573.46470521,  537568.39466806,\n",
       "        327186.07864173,  262177.07342766,  436727.13658195,\n",
       "        307475.05729059,  256905.71628331,  154584.63183965,\n",
       "        956397.80045969,  200416.63855054,  320781.50025328,\n",
       "        864735.73530292,  325165.13432921,  825175.59165725,\n",
       "        199691.72479036,  171580.43706863, 3860358.0960154 ,\n",
       "        200631.66454586,  423698.96244312,   85797.46388159,\n",
       "        513968.70177751,  712948.70437767,  424553.28838956,\n",
       "         71162.25940694,  157864.94013772,  498298.01051026,\n",
       "        506705.64079699,  473676.43891395,  443967.07550673,\n",
       "        720215.86870795,  294894.8438621 ,   69344.05928005,\n",
       "        522801.95547126,  167527.39431002,  194866.8065318 ,\n",
       "        712721.44987164, 1873890.65386523,  873765.55697532,\n",
       "         67287.08760042,  188877.78917887,  267944.98711584,\n",
       "        412252.24127526,  563331.28795828,   95394.15923333,\n",
       "        874244.43654694,  454065.35606418,  412115.97106179,\n",
       "        303768.0226906 ,  157199.65772717, 2261586.13243037,\n",
       "        122594.40721727,  170320.96495921,  183737.55905546,\n",
       "        414815.31717378,  118197.79609973,  396531.05853366,\n",
       "        384410.64046571,  424598.07323035,  250519.02859024,\n",
       "        105595.45300998,  111927.98393161,  126375.15534859,\n",
       "        156031.02658585,  406821.84262531,  281161.21991902,\n",
       "       1016960.61581042,  505902.328397  ,  281301.49952842,\n",
       "        671355.65956126,  704160.88646602,  414935.99396416,\n",
       "        189454.9812937 ,  231864.5566126 ,  219483.19580618,\n",
       "        198610.31053553,  623038.49032663, 1120255.33773216,\n",
       "        941308.86061612,  805727.64839606,  784751.94584427,\n",
       "        175767.79622314,  623012.24586164,  395117.06243693,\n",
       "         82806.5934327 , 1987881.61312667,  196636.37191188,\n",
       "        712555.18323689,  348148.8224324 ,  485636.35501199,\n",
       "         74432.48452326,  236143.86824015, 1409766.63296075,\n",
       "        425065.45145566, 1494012.17274081,  843757.77572439,\n",
       "        460072.99440356,  554299.69368978,  290607.4360896 ,\n",
       "        231931.74925342,  669274.77638251,  477117.68320632,\n",
       "        669274.77638251,  385911.43545251,  263058.60562058,\n",
       "        136541.88612789,  605889.88760567,  204493.23104315,\n",
       "        236090.36401038,  186625.5911313 , 1248232.46346844,\n",
       "        506705.64079699,  593991.24841596,  416532.1074688 ,\n",
       "        468338.12114831,  113867.17256924,  771372.83420268,\n",
       "        159987.93473198,  160342.802426  ,  320685.82320644,\n",
       "        113867.17256924,  482953.64364789,  705917.86732405,\n",
       "        334866.7702452 ,   84431.42266396,  229967.2248471 ,\n",
       "        473856.64704522,  327490.79389354,  251552.33582413,\n",
       "        515453.0812146 ,  519181.18769161,  410445.65125651,\n",
       "       3860358.0960154 ,  364690.82540401,  113867.17256924,\n",
       "        460181.97548467,  856564.25111884,  118197.79609973,\n",
       "       1039299.41158944,  995059.35696952,  692490.19003138,\n",
       "        427171.23866964,  873568.46381788,  466398.77694663,\n",
       "        274549.18059103,  211158.59232212,  105736.20088623,\n",
       "        166457.06745371,  306538.24332335,  787685.24390381,\n",
       "        306609.29107539,  601151.85778781,  401123.30519752,\n",
       "        821521.50969173,  127393.92262629,  360538.89615465,\n",
       "        649579.72569364,  317828.94850482,  561367.09248913,\n",
       "        632254.41516117,  361583.3772438 ,  200631.66454586,\n",
       "        201780.59175669,  198427.75109954,  444614.49438339,\n",
       "        267944.98711584,  182090.83385729,  156488.55755173,\n",
       "         76776.36734561,  248128.12314676,  330845.12643071,\n",
       "        413173.75102905,  922938.16114045,  236090.36401038,\n",
       "        895257.90298246,  287319.71091362,  464466.63601891,\n",
       "        465397.96529341,  223487.79965423, 1670045.41875747,\n",
       "        239590.66805223,  404694.12651409,  359336.37617795,\n",
       "        508297.79676196,  233914.53551799,  250493.25659889,\n",
       "         99503.3714531 ,  184649.11852061,  673522.62815404,\n",
       "        630356.17598243,  455943.94745933,  537568.39466806,\n",
       "        402637.06529564,  264724.99562616,  496347.26869336,\n",
       "        207877.79792697,  416532.1074688 ,  787065.1211046 ,\n",
       "        551317.12128718,  338172.31729373,  406727.56545734,\n",
       "        451888.51485683,  180287.16145559,  957411.67006643,\n",
       "        172785.25991408,  619068.82831102,   69431.51847017,\n",
       "        671355.65956126,  201464.14003277,  563424.091089  ,\n",
       "        395117.06243693,  193723.1302315 ,  204578.04537523,\n",
       "        991602.49723319,  364210.14272595, 1938236.19509264,\n",
       "       1360651.59271414,  159045.71372257,  189089.64399112,\n",
       "        465768.77425203,  605601.0056838 ,  787685.24390381,\n",
       "        256095.40678009,  545870.93688211,   77700.07071452,\n",
       "        535699.14039559,  483173.81296909,  370343.8006099 ,\n",
       "        448066.34952148,  318342.02761975, 1018726.60109107,\n",
       "       2539823.38560937,  240117.29597475,  207193.98459073,\n",
       "        443967.07550673,   99738.26892825,  868442.15716256,\n",
       "        711792.75611476,  118197.79609973,  482953.64364789,\n",
       "        686247.65351291,  194338.48277896,  751310.86069061,\n",
       "        695571.38410974,  276222.45762707,  994984.74845161,\n",
       "        185745.20416586, 3731677.95558662,  722642.07642012,\n",
       "        334328.57031458,  451930.20148211,  118780.06636881,\n",
       "       2263340.04475965,  581729.56140977,  210047.65197387,\n",
       "        125460.23055039,  471122.78894864,  161197.28950327,\n",
       "        264724.99562616,  159045.71372257,  303289.57855842,\n",
       "        415108.72942059,  787685.24390381,  324500.30845775,\n",
       "        485619.44944229,  350853.27323797,  354352.83852427,\n",
       "        604495.14910762,  582559.94108285,  845305.89406288,\n",
       "        223114.23716662,  535436.39291862, 3860358.0960154 ,\n",
       "        263667.37924714,  669274.77638251,  455921.92825082,\n",
       "        149095.13516175,  489885.10947882,  801638.41629536,\n",
       "        543165.36442184,  751310.86069061,  417588.68204796,\n",
       "        543165.36442184,  257737.88600417, 2147900.36503017,\n",
       "        639684.67290151, 1164293.8606284 ,  287281.62461413,\n",
       "        242868.57329895,  552413.57105382,  511142.40481603,\n",
       "        551317.12128718,  433126.12097972, 2234924.15497926,\n",
       "        100307.69656907,  320685.82320644,  140585.32252637,\n",
       "        489885.10947882,  396531.05853366,  283195.90563339,\n",
       "        371794.13356978,  552376.06324401, 1145627.76466359,\n",
       "        489885.10947882, 1456621.7917594 ,  197087.02657129,\n",
       "        293221.01765664,  513947.44351187,  109757.27773822,\n",
       "        350853.27323797,  425824.64556437,  118256.36415084,\n",
       "        334936.91373544,  786390.69953419,  264720.87780161,\n",
       "        805727.64839606,  404310.37223184,  539203.71803779,\n",
       "        407219.85834975,  266454.56318226,  182873.67317435,\n",
       "        295747.91048622,  267166.82541588,  222529.63982479,\n",
       "        337253.92082277, 2539823.38560937,  256095.40678009,\n",
       "        253853.56892497,  106175.53414364, 1059962.18089171,\n",
       "        473605.68954228,  443967.07550673,  413173.75102905,\n",
       "         81033.38360426,  283968.44401363,  195638.36334862,\n",
       "         73814.94979795,  913517.02078686,  542677.34140742,\n",
       "        229655.23544123])"
      ]
     },
     "execution_count": 39,
     "metadata": {},
     "output_type": "execute_result"
    }
   ],
   "source": [
    "predictions"
   ]
  },
  {
   "cell_type": "code",
   "execution_count": 40,
   "metadata": {},
   "outputs": [
    {
     "data": {
      "text/plain": [
       "<matplotlib.axes._subplots.AxesSubplot at 0x14a908a9dc8>"
      ]
     },
     "execution_count": 40,
     "metadata": {},
     "output_type": "execute_result"
    },
    {
     "data": {
      "image/png": "[encoded data removed]",
      "text/plain": [
       "<Figure size 432x288 with 1 Axes>"
      ]
     },
     "metadata": {
      "needs_background": "light"
     },
     "output_type": "display_data"
    }
   ],
   "source": [
    "sns.distplot(y_test-predictions)"
   ]
  },
  {
   "cell_type": "code",
   "execution_count": 42,
   "metadata": {},
   "outputs": [
    {
     "data": {
      "text/plain": [
       "<matplotlib.collections.PathCollection at 0x14aa1e9b748>"
      ]
     },
     "execution_count": 42,
     "metadata": {},
     "output_type": "execute_result"
    },
    {
     "data": {
      "image/png": "[encoded data removed]",
      "text/plain": [
       "<Figure size 432x288 with 1 Axes>"
      ]
     },
     "metadata": {
      "needs_background": "light"
     },
     "output_type": "display_data"
    }
   ],
   "source": [
    "plt.scatter(y_test,predictions)"
   ]
  },
  {
   "cell_type": "markdown",
   "metadata": {},
   "source": [
    "Now,we can see from the distplot and scatter plot that the our model is performing well.Its not completely accurate but with a very basic random forest method we have achieved good results."
   ]
  },
  {
   "cell_type": "code",
   "execution_count": null,
   "metadata": {},
   "outputs": [],
   "source": []
  },
  {
   "cell_type": "code",
   "execution_count": null,
   "metadata": {},
   "outputs": [],
   "source": []
  }
 ],
 "metadata": {
  "kernelspec": {
   "display_name": "Python 3",
   "language": "python",
   "name": "python3"
  },
  "language_info": {
   "codemirror_mode": {
    "name": "ipython",
    "version": 3
   },
   "file_extension": ".py",
   "mimetype": "text/x-python",
   "name": "python",
   "nbconvert_exporter": "python",
   "pygments_lexer": "ipython3",
   "version": "3.7.6"
  }
 },
 "nbformat": 4,
 "nbformat_minor": 4
}
